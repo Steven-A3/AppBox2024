{
 "cells": [
  {
   "cell_type": "code",
   "execution_count": 1,
   "metadata": {},
   "outputs": [],
   "source": [
    "import json"
   ]
  },
  {
   "cell_type": "markdown",
   "metadata": {},
   "source": []
  },
  {
   "cell_type": "code",
   "execution_count": 2,
   "metadata": {},
   "outputs": [],
   "source": [
    "apple_device_list = open('Apple_mobile_device_types.txt', 'r')"
   ]
  },
  {
   "cell_type": "code",
   "execution_count": 3,
   "metadata": {},
   "outputs": [],
   "source": [
    "with open('device_information.json') as json_file:\n",
    "    device_data = json.load(json_file)\n",
    "platform_list = device_data['platform']"
   ]
  },
  {
   "cell_type": "code",
   "execution_count": 4,
   "metadata": {
    "tags": []
   },
   "outputs": [
    {
     "name": "stdout",
     "output_type": "stream",
     "text": [
      "{'i386': 'iPhone Simulator', 'x86_64': 'iPhone Simulator', 'arm64': 'iPhone Simulator', 'iPhone1,1': 'iPhone', 'iPhone1,2': 'iPhone 3G', 'iPhone2,1': 'iPhone 3GS', 'iPhone3,1': 'iPhone 4', 'iPhone3,2': 'iPhone 4', 'iPhone3,3': 'iPhone 4', 'iPhone4,1': 'iPhone 4s', 'iPhone5,1': 'iPhone 5', 'iPhone5,2': 'iPhone 5', 'iPhone5,3': 'iPhone 5c', 'iPhone5,4': 'iPhone 5c', 'iPhone6,1': 'iPhone 5s', 'iPhone6,2': 'iPhone 5s', 'iPhone7,1': 'iPhone 6 Plus', 'iPhone7,2': 'iPhone 6', 'iPhone8,1': 'iPhone 6s', 'iPhone8,2': 'iPhone 6s Plus', 'iPhone8,4': 'iPhone SE', 'iPhone9,1': 'iPhone 7', 'iPhone9,2': 'iPhone 7 Plus', 'iPhone9,3': 'iPhone 7', 'iPhone9,4': 'iPhone 7 Plus', 'iPhone10,1': 'iPhone 8', 'iPhone10,2': 'iPhone 8 Plus', 'iPhone10,3': 'iPhone X', 'iPhone10,4': 'iPhone 8', 'iPhone10,5': 'iPhone 8 Plus', 'iPhone10,6': 'iPhone X', 'iPhone11,2': 'iPhone XS', 'iPhone11,4': 'iPhone XS Max', 'iPhone11,6': 'iPhone XS Max', 'iPhone11,8': 'iPhone XR', 'iPhone12,1': 'iPhone 11', 'iPhone12,3': 'iPhone 11 Pro', 'iPhone12,5': 'iPhone 11 Pro Max', 'iPhone12,8': 'iPhone SE 2nd Gen', 'iPhone13,1': 'iPhone 12 mini', 'iPhone13,2': 'iPhone 12', 'iPhone13,3': 'iPhone 12 Pro', 'iPhone13,4': 'iPhone 12 Pro Max', 'iPhone14,2': 'iPhone 13 Pro', 'iPhone14,3': 'iPhone 13 Pro Max', 'iPhone14,4': 'iPhone 13 mini', 'iPHone14,5': 'iPhone 13', 'iPad2,1': 'iPad 2 (Wi-Fi)', 'iPad2,2': 'iPad 2', 'iPad2,3': 'iPad 2', 'iPad2,4': 'iPad 2 (Wi-Fi)', 'iPad2,5': 'iPad mini 1st Gen (Wi-Fi)', 'iPad2,6': 'iPad mini 1st Gen (GSM+LTE)', 'iPad2,7': 'iPad mini 1st Gen (CDMA+LTE)', 'iPad3,1': 'iPad 3rd Gen (Wi-Fi)', 'iPad3,2': 'iPad 3rd Gen (CDMA)', 'iPad3,3': 'iPad 3rd Gen (GSM)', 'iPad3,4': 'iPad 4th Gen (Wi-Fi)', 'iPad3,5': 'iPad 4th Gen (GSM+LTE)', 'iPad3,6': 'iPad 4th Gen (CDMA+LTE)', 'iPad4,1': 'iPad Air 1st Gen (Wi-Fi)', 'iPad4,2': 'iPad Air 1st Gen (GSM+CDMA)', 'iPad4,3': 'iPad Air 1st Gen (Wi-Fi+Cellular)', 'iPad4,4': 'iPad mini 2nd Gen (Wi-Fi)', 'iPad4,5': 'iPad mini 2nd Gen (Wi-Fi+Cellular)', 'iPad4,6': 'iPad mini 2nd Gen (Wi-Fi+Cellular)', 'iPad4,7': 'iPad mini 3rd Gen (Wi-Fi)', 'iPad4,8': 'iPad mini 3rd Gen (Wi-Fi+Cellular)', 'iPad4,9': 'iPad mini 3rd Gen (Wi-Fi+Cellular)', 'iPad5,1': 'iPad mini 4th Gen (Wi-Fi)', 'iPad5,2': 'iPad mini 4th Gen (Wi-Fi+Cellular)', 'iPad5,3': 'iPad Air 2nd Gen (Wi-Fi)', 'iPad5,4': 'iPad Air 2nd Gen (Wi-Fi+Cellular)', 'iPad6,3': 'iPad Pro 9.7 \" (Wi-Fi)', 'iPad6,4': 'iPad Pro 9.7 \" (Wi-Fi+Cellular)', 'iPad6,7': 'iPad Pro 12.9 \" 1st Gen (Wi-Fi)', 'iPad6,8': 'iPad Pro 12.9 \" 1st Gen (Wi-Fi+Cellular)', 'iPad6,11': 'iPad 5th Gen (Wi-Fi)', 'iPad6,12': 'iPad 5th Gen (Wi-Fi+Cellular)', 'iPad7,1': 'iPad Pro 12.9 \" 2nd Gen (Wi-Fi)', 'iPad7,2': 'iPad Pro 12.9 \" 2nd Gen (Wi-Fi+Cellular)', 'iPad7,3': 'iPad Pro 10.5 \" (Wi-Fi)', 'iPad7,4': 'iPad Pro 10.5 \" (Wi-Fi+Cellular)', 'iPad7,5': 'iPad 6th Gen (Wi-Fi)', 'iPad7,6': 'iPad 6th Gen (Wi-Fi+Cellular)', 'iPad7,11': 'iPad 7th Gen 10.2 \" (Wi-Fi)', 'iPad7,12': 'iPad 7th Gen 10.2 \" (Wi-Fi+Cellular)', 'iPad8,1': 'iPad Pro 11 \" 1st Gen (Wi-Fi)', 'iPad8,2': 'iPad Pro 11 \" 1st Gen (Wi-Fi, 1TB)', 'iPad8,3': 'iPad Pro 11 \" 1st Gen (Wi-Fi+Cellular)', 'iPad8,4': 'iPad Pro 11 \" 1st Gen (Wi-Fi+Cellular, 1TB)', 'iPad8,5': 'iPad Pro 12.9 \" 3rd Gen (Wi-Fi)', 'iPad8,6': 'iPad Pro 12.9 \" 3rd Gen (Wi-Fi, 1TB)', 'iPad8,7': 'iPad Pro 12.9 \" 3rd Gen (Wi-Fi+Cellular)', 'iPad8,8': 'iPad Pro 12.9 \" 3rd Gen (Wi-Fi+Cellular, 1TB)', 'iPad8,9': 'iPad Pro 11 \" 2nd Gen (Wi-Fi)', 'iPad8,10': 'iPad Pro 11 \" 2nd Gen (Wi-Fi+Cellular)', 'iPad8,11': 'iPad Pro 12.9 \" 4th Gen (Wi-Fi)', 'iPad8,12': 'iPad Pro 12.9 \" 4th Gen (Wi-Fi+Cellular)', 'iPad11,1': 'iPad mini 5th Gen (Wi-Fi)', 'iPad11,2': 'iPad mini 5th Gen (Wi-Fi+Cellular)', 'iPad11,3': 'iPad Air 3rd Gen (Wi-Fi)', 'iPad11,4': 'iPad Air 3rd Gen (Wi-Fi+Cellular)', 'iPad11,6': 'iPad 8th Gen (Wi-Fi)', 'iPad11,7': 'iPad 8th Gen (Wi-Fi+Cellular)', 'iPad13,1': 'iPad Air 4th Gen (Wi-Fi)', 'iPad13,2': 'iPad Air 4th Gen (Wi-Fi+Cellular)', 'iPod5,1': 'iPod Touch (5th generation)', 'iPod7,1': 'iPod Touch (6th generation)', 'iPod9,1': 'iPod Touch (7th Generation)'}\n"
     ]
    }
   ],
   "source": [
    "print(platform_list)"
   ]
  },
  {
   "cell_type": "code",
   "execution_count": 5,
   "metadata": {
    "tags": []
   },
   "outputs": [],
   "source": [
    "platform_list_keys = list(platform_list.keys())"
   ]
  },
  {
   "cell_type": "code",
   "execution_count": 6,
   "metadata": {
    "tags": []
   },
   "outputs": [
    {
     "name": "stdout",
     "output_type": "stream",
     "text": [
      "110\n"
     ]
    }
   ],
   "source": [
    "print(len(platform_list_keys))"
   ]
  },
  {
   "cell_type": "code",
   "execution_count": 7,
   "metadata": {
    "tags": []
   },
   "outputs": [
    {
     "name": "stdout",
     "output_type": "stream",
     "text": [
      "['i386', 'x86_64', 'arm64', 'iPhone1,1', 'iPhone1,2', 'iPhone2,1', 'iPhone3,1', 'iPhone3,2', 'iPhone3,3', 'iPhone4,1', 'iPhone5,1', 'iPhone5,2', 'iPhone5,3', 'iPhone5,4', 'iPhone6,1', 'iPhone6,2', 'iPhone7,1', 'iPhone7,2', 'iPhone8,1', 'iPhone8,2', 'iPhone8,4', 'iPhone9,1', 'iPhone9,2', 'iPhone9,3', 'iPhone9,4', 'iPhone10,1', 'iPhone10,2', 'iPhone10,3', 'iPhone10,4', 'iPhone10,5', 'iPhone10,6', 'iPhone11,2', 'iPhone11,4', 'iPhone11,6', 'iPhone11,8', 'iPhone12,1', 'iPhone12,3', 'iPhone12,5', 'iPhone12,8', 'iPhone13,1', 'iPhone13,2', 'iPhone13,3', 'iPhone13,4', 'iPhone14,2', 'iPhone14,3', 'iPhone14,4', 'iPHone14,5', 'iPad2,1', 'iPad2,2', 'iPad2,3', 'iPad2,4', 'iPad2,5', 'iPad2,6', 'iPad2,7', 'iPad3,1', 'iPad3,2', 'iPad3,3', 'iPad3,4', 'iPad3,5', 'iPad3,6', 'iPad4,1', 'iPad4,2', 'iPad4,3', 'iPad4,4', 'iPad4,5', 'iPad4,6', 'iPad4,7', 'iPad4,8', 'iPad4,9', 'iPad5,1', 'iPad5,2', 'iPad5,3', 'iPad5,4', 'iPad6,3', 'iPad6,4', 'iPad6,7', 'iPad6,8', 'iPad6,11', 'iPad6,12', 'iPad7,1', 'iPad7,2', 'iPad7,3', 'iPad7,4', 'iPad7,5', 'iPad7,6', 'iPad7,11', 'iPad7,12', 'iPad8,1', 'iPad8,2', 'iPad8,3', 'iPad8,4', 'iPad8,5', 'iPad8,6', 'iPad8,7', 'iPad8,8', 'iPad8,9', 'iPad8,10', 'iPad8,11', 'iPad8,12', 'iPad11,1', 'iPad11,2', 'iPad11,3', 'iPad11,4', 'iPad11,6', 'iPad11,7', 'iPad13,1', 'iPad13,2', 'iPod5,1', 'iPod7,1', 'iPod9,1']\n"
     ]
    }
   ],
   "source": [
    "print(platform_list_keys)"
   ]
  },
  {
   "cell_type": "code",
   "execution_count": 8,
   "metadata": {
    "tags": []
   },
   "outputs": [
    {
     "name": "stdout",
     "output_type": "stream",
     "text": [
      "i386\n"
     ]
    }
   ],
   "source": [
    "print(platform_list_keys[0])"
   ]
  },
  {
   "cell_type": "code",
   "execution_count": 9,
   "metadata": {},
   "outputs": [],
   "source": [
    "device_list = apple_device_list.readlines()"
   ]
  },
  {
   "cell_type": "code",
   "execution_count": 18,
   "metadata": {
    "tags": []
   },
   "outputs": [
    {
     "name": "stdout",
     "output_type": "stream",
     "text": [
      "iPhone14,5  iPhone 13\n",
      "\n",
      " \n",
      "iPod1,1  1st Gen iPod\n",
      "\n",
      "iPod2,1  2nd Gen iPod\n",
      "\n",
      "iPod3,1  3rd Gen iPod\n",
      "\n",
      "iPod4,1  4th Gen iPod\n",
      "\n",
      " \n",
      "iPad1,1  iPad\n",
      "\n",
      "iPad1,2  iPad 3G\n",
      "\n",
      "iPad12,1  iPad 9th Gen (WiFi)\n",
      "\n",
      "iPad12,2  iPad 9th Gen (WiFi+Cellular)\n",
      "\n",
      "iPad14,1  iPad mini 6th Gen (WiFi)\n",
      "\n",
      "iPad14,2  iPad mini 6th Gen (WiFi+Cellular)\n",
      "\n",
      "iPad13,4  iPad Pro 11 inch 5th Gen\n",
      "\n",
      "iPad13,5  iPad Pro 11 inch 5th Gen\n",
      "\n",
      "iPad13,6  iPad Pro 11 inch 5th Gen\n",
      "\n",
      "iPad13,7  iPad Pro 11 inch 5th Gen\n",
      "\n",
      "iPad13,8  iPad Pro 12.9 inch 5th Gen\n",
      "\n",
      "iPad13,9  iPad Pro 12.9 inch 5th Gen\n",
      "\n",
      "iPad13,10  iPad Pro 12.9 inch 5th Gen\n",
      "\n",
      "iPad13,11  iPad Pro 12.9 inch 5th Gen\n",
      "\n",
      " \n"
     ]
    }
   ],
   "source": [
    "for device in device_list:\n",
    "    components = device.partition(':')\n",
    "    # print(components[0], components[2])\n",
    "    device_id = components[0].strip()\n",
    "    \n",
    "    # print(len(platform_list_keys[0]), len(device_id))\n",
    "    if not device_id.startswith('Watch'):\n",
    "        if (platform_list_keys.count(device_id) == 0):\n",
    "            print(device_id, components[2])\n",
    "    \n"
   ]
  },
  {
   "cell_type": "code",
   "execution_count": null,
   "metadata": {},
   "outputs": [],
   "source": []
  }
 ],
 "metadata": {
  "interpreter": {
   "hash": "c6d227036671e15a91035e1c6d5f3a1419e819652b41b26ec9c094c3eda0fdf6"
  },
  "kernelspec": {
   "display_name": "Python 3",
   "language": "python",
   "name": "python3"
  },
  "language_info": {
   "codemirror_mode": {
    "name": "ipython",
    "version": 3
   },
   "file_extension": ".py",
   "mimetype": "text/x-python",
   "name": "python",
   "nbconvert_exporter": "python",
   "pygments_lexer": "ipython3",
   "version": "3.8.8"
  }
 },
 "nbformat": 4,
 "nbformat_minor": 5
}
